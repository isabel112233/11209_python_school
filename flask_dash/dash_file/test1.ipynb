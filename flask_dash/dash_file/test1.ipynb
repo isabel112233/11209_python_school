{
 "cells": [
  {
   "cell_type": "code",
   "execution_count": 18,
   "metadata": {},
   "outputs": [
    {
     "ename": "NameError",
     "evalue": "name 'pw' is not defined",
     "output_type": "error",
     "traceback": [
      "\u001b[0;31m---------------------------------------------------------------------------\u001b[0m",
      "\u001b[0;31mNameError\u001b[0m                                 Traceback (most recent call last)",
      "Cell \u001b[0;32mIn[18], line 4\u001b[0m\n\u001b[1;32m      1\u001b[0m \u001b[38;5;28;01mimport\u001b[39;00m \u001b[38;5;21;01mdatasource\u001b[39;00m\n\u001b[1;32m      2\u001b[0m \u001b[38;5;28;01mimport\u001b[39;00m \u001b[38;5;21;01mpandas\u001b[39;00m \u001b[38;5;28;01mas\u001b[39;00m \u001b[38;5;21;01mpd\u001b[39;00m\n\u001b[0;32m----> 4\u001b[0m lastest_data \u001b[38;5;241m=\u001b[39m \u001b[43mdatasource\u001b[49m\u001b[38;5;241;43m.\u001b[39;49m\u001b[43mlastest_datetime_data\u001b[49m\u001b[43m(\u001b[49m\u001b[43m)\u001b[49m\n\u001b[1;32m      5\u001b[0m lastest_df \u001b[38;5;241m=\u001b[39m pd\u001b[38;5;241m.\u001b[39mDataFrame(lastest_data,columns\u001b[38;5;241m=\u001b[39m[\u001b[38;5;124m'\u001b[39m\u001b[38;5;124m站點名稱\u001b[39m\u001b[38;5;124m'\u001b[39m,\u001b[38;5;124m'\u001b[39m\u001b[38;5;124m更新時間\u001b[39m\u001b[38;5;124m'\u001b[39m,\u001b[38;5;124m'\u001b[39m\u001b[38;5;124m行政區\u001b[39m\u001b[38;5;124m'\u001b[39m,\u001b[38;5;124m'\u001b[39m\u001b[38;5;124m地址\u001b[39m\u001b[38;5;124m'\u001b[39m,\u001b[38;5;124m'\u001b[39m\u001b[38;5;124m總數\u001b[39m\u001b[38;5;124m'\u001b[39m,\u001b[38;5;124m'\u001b[39m\u001b[38;5;124m可借\u001b[39m\u001b[38;5;124m'\u001b[39m,\u001b[38;5;124m'\u001b[39m\u001b[38;5;124m可還\u001b[39m\u001b[38;5;124m'\u001b[39m])\n\u001b[1;32m      6\u001b[0m df1 \u001b[38;5;241m=\u001b[39m lastest_df\u001b[38;5;241m.\u001b[39miloc[[\u001b[38;5;241m1\u001b[39m]]\n",
      "File \u001b[0;32m/workspaces/11209_python_school/flask_dash/dash_file/datasource.py:7\u001b[0m, in \u001b[0;36mlastest_datetime_data\u001b[0;34m()\u001b[0m\n\u001b[1;32m      6\u001b[0m \u001b[38;5;28;01mdef\u001b[39;00m \u001b[38;5;21mlastest_datetime_data\u001b[39m()\u001b[38;5;241m-\u001b[39m\u001b[38;5;241m>\u001b[39m\u001b[38;5;28mlist\u001b[39m[\u001b[38;5;28mtuple\u001b[39m]:\n\u001b[0;32m----> 7\u001b[0m     conn \u001b[38;5;241m=\u001b[39m psycopg2\u001b[38;5;241m.\u001b[39mconnect(database\u001b[38;5;241m=\u001b[39m\u001b[43mpw\u001b[49m\u001b[38;5;241m.\u001b[39mDATABASE,\n\u001b[1;32m      8\u001b[0m                             user\u001b[38;5;241m=\u001b[39mpw\u001b[38;5;241m.\u001b[39mUSER, \n\u001b[1;32m      9\u001b[0m                             password\u001b[38;5;241m=\u001b[39mpw\u001b[38;5;241m.\u001b[39mPASSWORD,\n\u001b[1;32m     10\u001b[0m                             host\u001b[38;5;241m=\u001b[39mpw\u001b[38;5;241m.\u001b[39mHOST, \n\u001b[1;32m     11\u001b[0m                             port\u001b[38;5;241m=\u001b[39m\u001b[38;5;124m\"\u001b[39m\u001b[38;5;124m5432\u001b[39m\u001b[38;5;124m\"\u001b[39m)\n\u001b[1;32m     12\u001b[0m     cursor \u001b[38;5;241m=\u001b[39m conn\u001b[38;5;241m.\u001b[39mcursor()\n\u001b[1;32m     13\u001b[0m     sql \u001b[38;5;241m=\u001b[39m \u001b[38;5;124m'''\u001b[39m\n\u001b[1;32m     14\u001b[0m \u001b[38;5;124m    SELECT 站點名稱,更新時間,行政區,地址,總車輛數,可借,可還\u001b[39m\n\u001b[1;32m     15\u001b[0m \u001b[38;5;124m    FROM 台北市youbike\u001b[39m\n\u001b[0;32m   (...)\u001b[0m\n\u001b[1;32m     20\u001b[0m \u001b[38;5;124m            );\u001b[39m\n\u001b[1;32m     21\u001b[0m \u001b[38;5;124m    \u001b[39m\u001b[38;5;124m'''\u001b[39m\n",
      "\u001b[0;31mNameError\u001b[0m: name 'pw' is not defined"
     ]
    }
   ],
   "source": [
    "import datasource\n",
    "import pandas as pd\n",
    "\n",
    "lastest_data = datasource.lastest_datetime_data()\n",
    "lastest_df = pd.DataFrame(lastest_data,columns=['站點名稱','更新時間','行政區','地址','總數','可借','可還'])\n",
    "df1 = lastest_df.iloc[[1]]\n",
    "[{\"name\": i, \"id\": i} for i in df1.columns]"
   ]
  },
  {
   "cell_type": "code",
   "execution_count": null,
   "metadata": {},
   "outputs": [],
   "source": [
    "lastest_df1 = lastest_df.reset_index()\n",
    "lastest_df1['站點名稱'] = lastest_df1['站點名稱'].map(lambda name:name[11:])"
   ]
  },
  {
   "cell_type": "code",
   "execution_count": 8,
   "metadata": {},
   "outputs": [
    {
     "ename": "NameError",
     "evalue": "name 'lastest_df1' is not defined",
     "output_type": "error",
     "traceback": [
      "\u001b[0;31m---------------------------------------------------------------------------\u001b[0m",
      "\u001b[0;31mNameError\u001b[0m                                 Traceback (most recent call last)",
      "Cell \u001b[0;32mIn[8], line 1\u001b[0m\n\u001b[0;32m----> 1\u001b[0m \u001b[43mlastest_df1\u001b[49m\n",
      "\u001b[0;31mNameError\u001b[0m: name 'lastest_df1' is not defined"
     ]
    }
   ],
   "source": [
    "lastest_df1"
   ]
  }
 ],
 "metadata": {
  "kernelspec": {
   "display_name": "Python 3",
   "language": "python",
   "name": "python3"
  },
  "language_info": {
   "codemirror_mode": {
    "name": "ipython",
    "version": 3
   },
   "file_extension": ".py",
   "mimetype": "text/x-python",
   "name": "python",
   "nbconvert_exporter": "python",
   "pygments_lexer": "ipython3",
   "version": "3.10.13"
  }
 },
 "nbformat": 4,
 "nbformat_minor": 2
}
