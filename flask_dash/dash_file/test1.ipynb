{
 "cells": [
  {
   "cell_type": "code",
   "execution_count": 5,
   "metadata": {},
   "outputs": [
    {
     "ename": "ImportError",
     "evalue": "attempted relative import with no known parent package",
     "output_type": "error",
     "traceback": [
      "\u001b[0;31m---------------------------------------------------------------------------\u001b[0m",
      "\u001b[0;31mImportError\u001b[0m                               Traceback (most recent call last)",
      "\u001b[1;32m/workspaces/11209_python_school/flask_dash/dash_file/test1.ipynb 儲存格 1\u001b[0m line \u001b[0;36m1\n\u001b[0;32m----> <a href='vscode-notebook-cell://dev-container%2B7b22686f737450617468223a22633a5c5c4769744875625c5c31313230395f707974686f6e5f7363686f6f6c5c5c666c61736b5f64617368222c226c6f63616c446f636b6572223a66616c73652c22636f6e66696746696c65223a7b22246d6964223a312c22667350617468223a22633a5c5c4769744875625c5c31313230395f707974686f6e5f7363686f6f6c5c5c666c61736b5f646173685c5c2e646576636f6e7461696e65725c5c646576636f6e7461696e65722e6a736f6e222c225f736570223a312c2265787465726e616c223a2266696c653a2f2f2f632533412f4769744875622f31313230395f707974686f6e5f7363686f6f6c2f666c61736b5f646173682f2e646576636f6e7461696e65722f646576636f6e7461696e65722e6a736f6e222c2270617468223a222f633a2f4769744875622f31313230395f707974686f6e5f7363686f6f6c2f666c61736b5f646173682f2e646576636f6e7461696e65722f646576636f6e7461696e65722e6a736f6e222c22736368656d65223a2266696c65227d7d/workspaces/11209_python_school/flask_dash/dash_file/test1.ipynb#W0sdnNjb2RlLXJlbW90ZQ%3D%3D?line=0'>1</a>\u001b[0m \u001b[39mimport\u001b[39;00m \u001b[39mdatasource\u001b[39;00m\n\u001b[1;32m      <a href='vscode-notebook-cell://dev-container%2B7b22686f737450617468223a22633a5c5c4769744875625c5c31313230395f707974686f6e5f7363686f6f6c5c5c666c61736b5f64617368222c226c6f63616c446f636b6572223a66616c73652c22636f6e66696746696c65223a7b22246d6964223a312c22667350617468223a22633a5c5c4769744875625c5c31313230395f707974686f6e5f7363686f6f6c5c5c666c61736b5f646173685c5c2e646576636f6e7461696e65725c5c646576636f6e7461696e65722e6a736f6e222c225f736570223a312c2265787465726e616c223a2266696c653a2f2f2f632533412f4769744875622f31313230395f707974686f6e5f7363686f6f6c2f666c61736b5f646173682f2e646576636f6e7461696e65722f646576636f6e7461696e65722e6a736f6e222c2270617468223a222f633a2f4769744875622f31313230395f707974686f6e5f7363686f6f6c2f666c61736b5f646173682f2e646576636f6e7461696e65722f646576636f6e7461696e65722e6a736f6e222c22736368656d65223a2266696c65227d7d/workspaces/11209_python_school/flask_dash/dash_file/test1.ipynb#W0sdnNjb2RlLXJlbW90ZQ%3D%3D?line=1'>2</a>\u001b[0m \u001b[39mimport\u001b[39;00m \u001b[39mpandas\u001b[39;00m \u001b[39mas\u001b[39;00m \u001b[39mpd\u001b[39;00m\n\u001b[1;32m      <a href='vscode-notebook-cell://dev-container%2B7b22686f737450617468223a22633a5c5c4769744875625c5c31313230395f707974686f6e5f7363686f6f6c5c5c666c61736b5f64617368222c226c6f63616c446f636b6572223a66616c73652c22636f6e66696746696c65223a7b22246d6964223a312c22667350617468223a22633a5c5c4769744875625c5c31313230395f707974686f6e5f7363686f6f6c5c5c666c61736b5f646173685c5c2e646576636f6e7461696e65725c5c646576636f6e7461696e65722e6a736f6e222c225f736570223a312c2265787465726e616c223a2266696c653a2f2f2f632533412f4769744875622f31313230395f707974686f6e5f7363686f6f6c2f666c61736b5f646173682f2e646576636f6e7461696e65722f646576636f6e7461696e65722e6a736f6e222c2270617468223a222f633a2f4769744875622f31313230395f707974686f6e5f7363686f6f6c2f666c61736b5f646173682f2e646576636f6e7461696e65722f646576636f6e7461696e65722e6a736f6e222c22736368656d65223a2266696c65227d7d/workspaces/11209_python_school/flask_dash/dash_file/test1.ipynb#W0sdnNjb2RlLXJlbW90ZQ%3D%3D?line=2'>3</a>\u001b[0m \u001b[39mfrom\u001b[39;00m \u001b[39m.\u001b[39;00m \u001b[39mimport\u001b[39;00m datasource \n",
      "File \u001b[0;32m/workspaces/11209_python_school/flask_dash/dash_file/datasource.py:3\u001b[0m\n\u001b[1;32m      1\u001b[0m \u001b[39mimport\u001b[39;00m \u001b[39mrequests\u001b[39;00m\n\u001b[1;32m      2\u001b[0m \u001b[39mimport\u001b[39;00m \u001b[39mpsycopg2\u001b[39;00m\n\u001b[0;32m----> 3\u001b[0m \u001b[39mfrom\u001b[39;00m \u001b[39m.\u001b[39;00m \u001b[39mimport\u001b[39;00m password \u001b[39mas\u001b[39;00m pw\n\u001b[1;32m      6\u001b[0m \u001b[39mdef\u001b[39;00m \u001b[39mlastest_datetime_data\u001b[39m()\u001b[39m-\u001b[39m\u001b[39m>\u001b[39m\u001b[39mlist\u001b[39m[\u001b[39mtuple\u001b[39m]:\n\u001b[1;32m      7\u001b[0m     conn \u001b[39m=\u001b[39m psycopg2\u001b[39m.\u001b[39mconnect(database\u001b[39m=\u001b[39mpw\u001b[39m.\u001b[39mDATABASE,\n\u001b[1;32m      8\u001b[0m                             user\u001b[39m=\u001b[39mpw\u001b[39m.\u001b[39mUSER, \n\u001b[1;32m      9\u001b[0m                             password\u001b[39m=\u001b[39mpw\u001b[39m.\u001b[39mPASSWORD,\n\u001b[1;32m     10\u001b[0m                             host\u001b[39m=\u001b[39mpw\u001b[39m.\u001b[39mHOST, \n\u001b[1;32m     11\u001b[0m                             port\u001b[39m=\u001b[39m\u001b[39m\"\u001b[39m\u001b[39m5432\u001b[39m\u001b[39m\"\u001b[39m)\n",
      "\u001b[0;31mImportError\u001b[0m: attempted relative import with no known parent package"
     ]
    }
   ],
   "source": [
    "import datasource\n",
    "import pandas as pd\n",
    "from . import datasource \n",
    "import password\n",
    "\n",
    "lastest_data = datasource.lastest_datetime_data()\n",
    "lastest_df = pd.DataFrame(lastest_data,columns=['站點名稱','更新時間','行政區','地址','總數','可借','可還'])\n",
    "lastest_df"
   ]
  },
  {
   "cell_type": "code",
   "execution_count": null,
   "metadata": {},
   "outputs": [],
   "source": [
    "lastest_df1 = lastest_df.reset_index()\n",
    "lastest_df1['站點名稱'] = lastest_df1['站點名稱'].map(lambda name:name[11:])"
   ]
  },
  {
   "cell_type": "code",
   "execution_count": null,
   "metadata": {},
   "outputs": [],
   "source": [
    "lastest_df1"
   ]
  }
 ],
 "metadata": {
  "kernelspec": {
   "display_name": "Python 3",
   "language": "python",
   "name": "python3"
  },
  "language_info": {
   "codemirror_mode": {
    "name": "ipython",
    "version": 3
   },
   "file_extension": ".py",
   "mimetype": "text/x-python",
   "name": "python",
   "nbconvert_exporter": "python",
   "pygments_lexer": "ipython3",
   "version": "3.10.13"
  }
 },
 "nbformat": 4,
 "nbformat_minor": 2
}
