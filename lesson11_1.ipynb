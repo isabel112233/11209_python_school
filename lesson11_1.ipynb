{
 "cells": [
  {
   "cell_type": "code",
   "execution_count": 34,
   "metadata": {},
   "outputs": [
    {
     "name": "stdout",
     "output_type": "stream",
     "text": [
      "<class 'str'>\n",
      "<class 'int'>\n",
      "<class 'float'>\n",
      "<class 'bool'>\n"
     ]
    }
   ],
   "source": [
    "print(type(\"hello! World\"))\n",
    "print(type(13))\n",
    "print(type(13.0))\n",
    "print(type(True))"
   ]
  },
  {
   "cell_type": "code",
   "execution_count": 35,
   "metadata": {},
   "outputs": [],
   "source": [
    "class Person:        #建立Person實體,第一個字大寫,作用:可儲存一組相闗的資料，可動態建立屬性(attribute)。\n",
    "    def __init__(self,name:str,isMan:bool,age:int,weight:int|None=None,height:int|None=None):   #自訂init(初始化)，規定前面兩個underline __self(),增加屬性時直接加，可預設為None，__init__(self)為內建\n",
    "        self.name = name\n",
    "        self.isMan = isMan\n",
    "        self.age = age  \n",
    "        self.weight = weight \n",
    "        self.height = height\n",
    "\n",
    "class Student:\n",
    "    pass\n",
    "    "
   ]
  },
  {
   "cell_type": "code",
   "execution_count": 36,
   "metadata": {},
   "outputs": [
    {
     "ename": "TypeError",
     "evalue": "Person.__init__() missing 3 required positional arguments: 'name', 'isMan', and 'age'",
     "output_type": "error",
     "traceback": [
      "\u001b[1;31m---------------------------------------------------------------------------\u001b[0m",
      "\u001b[1;31mTypeError\u001b[0m                                 Traceback (most recent call last)",
      "\u001b[1;32mc:\\GitHub\\11209_python_school\\lesson11_1.ipynb 儲存格 3\u001b[0m line \u001b[0;36m1\n\u001b[1;32m----> <a href='vscode-notebook-cell:/c%3A/GitHub/11209_python_school/lesson11_1.ipynb#W2sZmlsZQ%3D%3D?line=0'>1</a>\u001b[0m p1 \u001b[39m=\u001b[39m Person()            \u001b[39m#Person為一實體如int str float bool\u001b[39;00m\n\u001b[0;32m      <a href='vscode-notebook-cell:/c%3A/GitHub/11209_python_school/lesson11_1.ipynb#W2sZmlsZQ%3D%3D?line=1'>2</a>\u001b[0m \u001b[39mprint\u001b[39m(\u001b[39mtype\u001b[39m(p1))\n\u001b[0;32m      <a href='vscode-notebook-cell:/c%3A/GitHub/11209_python_school/lesson11_1.ipynb#W2sZmlsZQ%3D%3D?line=2'>3</a>\u001b[0m p1\u001b[39m.\u001b[39mname \u001b[39m=\u001b[39m  \u001b[39m\"\u001b[39m\u001b[39mrobert\u001b[39m\u001b[39m\"\u001b[39m\n",
      "\u001b[1;31mTypeError\u001b[0m: Person.__init__() missing 3 required positional arguments: 'name', 'isMan', and 'age'"
     ]
    }
   ],
   "source": [
    "p1 = Person()            #Person為一實體如int str float bool\n",
    "print(type(p1))\n",
    "p1.name =  \"robert\"\n",
    "p1.age= \"25\"\n",
    "p1.isMan= \"False\""
   ]
  },
  {
   "cell_type": "code",
   "execution_count": null,
   "metadata": {},
   "outputs": [],
   "source": [
    "p1 = Person(name=\"robert\",isMan=False,age=\"31\")            #Person為一實體如int str float bool\n"
   ]
  },
  {
   "cell_type": "code",
   "execution_count": null,
   "metadata": {},
   "outputs": [
    {
     "name": "stdout",
     "output_type": "stream",
     "text": [
      "robert\n",
      "31\n",
      "False\n"
     ]
    }
   ],
   "source": [
    "print(p1.name)\n",
    "print(p1.age)\n",
    "print(p1.isMan)"
   ]
  },
  {
   "cell_type": "code",
   "execution_count": 37,
   "metadata": {},
   "outputs": [
    {
     "name": "stdout",
     "output_type": "stream",
     "text": [
      "<__main__.Person object at 0x00000185DBE1B220>\n"
     ]
    }
   ],
   "source": [
    "p2 = Person(\"Alicet\",\"False\",\"23\", 70 ,170)            #Person為一實體如int str float bool\n",
    "print(p2)\n",
    "\n"
   ]
  },
  {
   "cell_type": "code",
   "execution_count": 38,
   "metadata": {},
   "outputs": [
    {
     "name": "stdout",
     "output_type": "stream",
     "text": [
      "robert\n",
      "31\n",
      "False\n",
      "None\n",
      "None\n"
     ]
    }
   ],
   "source": [
    "print(p1.name)\n",
    "print(p1.age)\n",
    "print(p1.isMan)\n",
    "print(p1.weight)\n",
    "print(p1.height)"
   ]
  },
  {
   "cell_type": "code",
   "execution_count": 39,
   "metadata": {},
   "outputs": [
    {
     "ename": "TypeError",
     "evalue": "Person.__init__() missing 3 required positional arguments: 'name', 'isMan', and 'age'",
     "output_type": "error",
     "traceback": [
      "\u001b[1;31m---------------------------------------------------------------------------\u001b[0m",
      "\u001b[1;31mTypeError\u001b[0m                                 Traceback (most recent call last)",
      "\u001b[1;32mc:\\GitHub\\11209_python_school\\lesson11_1.ipynb 儲存格 8\u001b[0m line \u001b[0;36m1\n\u001b[1;32m----> <a href='vscode-notebook-cell:/c%3A/GitHub/11209_python_school/lesson11_1.ipynb#X12sZmlsZQ%3D%3D?line=0'>1</a>\u001b[0m p2 \u001b[39m=\u001b[39m Person()            \u001b[39m#Person為一實體如int str float bool\u001b[39;00m\n\u001b[0;32m      <a href='vscode-notebook-cell:/c%3A/GitHub/11209_python_school/lesson11_1.ipynb#X12sZmlsZQ%3D%3D?line=1'>2</a>\u001b[0m \u001b[39mprint\u001b[39m(\u001b[39mtype\u001b[39m(p2))\n\u001b[0;32m      <a href='vscode-notebook-cell:/c%3A/GitHub/11209_python_school/lesson11_1.ipynb#X12sZmlsZQ%3D%3D?line=2'>3</a>\u001b[0m p2\u001b[39m.\u001b[39mname \u001b[39m=\u001b[39m  \u001b[39m\"\u001b[39m\u001b[39mAlicet\u001b[39m\u001b[39m\"\u001b[39m\n",
      "\u001b[1;31mTypeError\u001b[0m: Person.__init__() missing 3 required positional arguments: 'name', 'isMan', and 'age'"
     ]
    }
   ],
   "source": [
    "p2 = Person()            #Person為一實體如int str float bool\n",
    "print(type(p2))\n",
    "p2.name =  \"Alicet\"\n",
    "p2.age= \"23\"\n",
    "p2.isMan= \"False\"\n",
    "p2.weight = 70          #動態建立屬性，新增體重及身高屬性，與舊資料不同。\n",
    "p2.height = 170\n"
   ]
  },
  {
   "cell_type": "code",
   "execution_count": 40,
   "metadata": {},
   "outputs": [],
   "source": [
    "p2 = Person(\"Alicet\",\"False\",\"23\",70 , 170) "
   ]
  },
  {
   "cell_type": "code",
   "execution_count": 41,
   "metadata": {},
   "outputs": [
    {
     "name": "stdout",
     "output_type": "stream",
     "text": [
      "Alicet\n",
      "23\n",
      "False\n",
      "70\n",
      "170\n"
     ]
    }
   ],
   "source": [
    "print(p2.name)\n",
    "print(p2.age)\n",
    "print(p2.isMan)\n",
    "print(p2.weight)\n",
    "print(p2.height)"
   ]
  },
  {
   "cell_type": "code",
   "execution_count": null,
   "metadata": {},
   "outputs": [],
   "source": []
  }
 ],
 "metadata": {
  "kernelspec": {
   "display_name": ".venv",
   "language": "python",
   "name": "python3"
  },
  "language_info": {
   "codemirror_mode": {
    "name": "ipython",
    "version": 3
   },
   "file_extension": ".py",
   "mimetype": "text/x-python",
   "name": "python",
   "nbconvert_exporter": "python",
   "pygments_lexer": "ipython3",
   "version": "3.10.8"
  },
  "orig_nbformat": 4
 },
 "nbformat": 4,
 "nbformat_minor": 2
}
