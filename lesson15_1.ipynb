{
 "cells": [
  {
   "cell_type": "code",
   "execution_count": 5,
   "metadata": {},
   "outputs": [
    {
     "name": "stdout",
     "output_type": "stream",
     "text": [
      "True\n"
     ]
    }
   ],
   "source": [
    "try :\n",
    "    file = open ('students.csv',encoding='utf-8',mode='r',newline='')\n",
    "    file.close()            #實體方法\n",
    "    print(file.closed )     #實體attribute ,讀檔後一定要關閉  open .file.closed\n",
    "except:\n",
    "    print('讀取錯誤')"
   ]
  },
  {
   "cell_type": "code",
   "execution_count": 6,
   "metadata": {},
   "outputs": [
    {
     "name": "stdout",
     "output_type": "stream",
     "text": [
      "姓名,國文,英文,數學,地理,歷史\n",
      "徐國堂,93,74,92,89,75\n",
      "郭在得,75,85,94,78,59\n",
      "True\n"
     ]
    }
   ],
   "source": [
    "try :\n",
    "    file = open ('students.csv',encoding='utf-8',mode='r',newline='')\n",
    "    print(file.read())\n",
    "    file.close()            #實體方法    \n",
    "    print(file.closed )     #實體attribute ,讀檔後一定要關閉  open .file.closed\n",
    "except:\n",
    "    print('讀取錯誤')"
   ]
  },
  {
   "cell_type": "code",
   "execution_count": 12,
   "metadata": {},
   "outputs": [
    {
     "name": "stdout",
     "output_type": "stream",
     "text": [
      "姓名,國文,英文,數學,地理,歷史\n",
      "\n",
      "徐國堂,93,74,92,89,75\n",
      "\n",
      "郭在得,75,85,94,78,59\n",
      "True\n"
     ]
    }
   ],
   "source": [
    "try :\n",
    "    file = open ('students.csv',encoding='utf-8',mode='r',newline='')\n",
    "    print(file.readline())  #file.readline()只讀取一行\n",
    "    print(file.readline())\n",
    "    print(file.readline())\n",
    "    file.close()            #實體方法    \n",
    "    print(file.closed )     #實體attribute ,讀檔後一定要關閉  open .file.closed\n",
    "except:\n",
    "    print('讀取錯誤')"
   ]
  },
  {
   "cell_type": "code",
   "execution_count": 14,
   "metadata": {},
   "outputs": [
    {
     "name": "stdout",
     "output_type": "stream",
     "text": [
      "<class '_csv.reader'>\n",
      "['姓名', '國文', '英文', '數學', '地理', '歷史']\n",
      "['徐國堂', '93', '74', '92', '89', '75']\n",
      "['郭在得', '75', '85', '94', '78', '59']\n",
      "True\n"
     ]
    }
   ],
   "source": [
    "import csv\n",
    "\n",
    "try :\n",
    "    file = open ('students.csv',encoding='utf-8',mode='r',newline='')\n",
    "    csv_reader = csv.reader(file)\n",
    "    print(type(csv_reader))      #<class '_csv.reader'>二維的list非python之資料結構\n",
    "    for row in csv_reader:\n",
    "        print (row)\n",
    "    \n",
    "    file.close()            #實體方法    \n",
    "    print(file.closed )     #實體attribute ,讀檔後一定要關閉  open .file.closed\n",
    "except:\n",
    "    print('讀取錯誤')"
   ]
  },
  {
   "cell_type": "code",
   "execution_count": 19,
   "metadata": {},
   "outputs": [
    {
     "name": "stdout",
     "output_type": "stream",
     "text": [
      "<class 'list'>\n",
      "True\n"
     ]
    },
    {
     "data": {
      "text/plain": [
       "[['姓名', '國文', '英文', '數學', '地理', '歷史'],\n",
       " ['徐國堂', '93', '74', '92', '89', '75'],\n",
       " ['郭在得', '75', '85', '94', '78', '59']]"
      ]
     },
     "execution_count": 19,
     "metadata": {},
     "output_type": "execute_result"
    }
   ],
   "source": [
    "import csv\n",
    "\n",
    "try :\n",
    "    file = open ('students.csv',encoding='utf-8',mode='r',newline='')\n",
    "    csv_reader = csv.reader(file)\n",
    "    csv_list = list(csv_reader)   #轉換為python之list資料結構\n",
    "    print(type(csv_list))      #<class 'list'>轉換為python 之資料結構,list [ [] ] ]  中之資料型態為文字(str),使用時要將文字轉換為數字\n",
    "    for row in csv_reader:\n",
    "        print (row)\n",
    "    \n",
    "    file.close()            #實體方法    \n",
    "    print(file.closed )     #實體attribute ,讀檔後一定要關閉  open .file.closed\n",
    "except:\n",
    "    print('讀取錯誤')\n",
    "csv_list"
   ]
  },
  {
   "cell_type": "code",
   "execution_count": 21,
   "metadata": {},
   "outputs": [
    {
     "data": {
      "text/plain": [
       "['郭在得', '75', '85', '94', '78', '59']"
      ]
     },
     "execution_count": 21,
     "metadata": {},
     "output_type": "execute_result"
    }
   ],
   "source": [
    "csv_list[2]"
   ]
  },
  {
   "cell_type": "code",
   "execution_count": 24,
   "metadata": {},
   "outputs": [
    {
     "name": "stdout",
     "output_type": "stream",
     "text": [
      "<csv.DictReader object at 0x0000020AF9BC7490>\n",
      "<class 'list'>\n",
      "True\n"
     ]
    },
    {
     "data": {
      "text/plain": [
       "[{'姓名': '徐國堂', '國文': '93', '英文': '74', '數學': '92', '地理': '89', '歷史': '75'},\n",
       " {'姓名': '郭在得', '國文': '75', '英文': '85', '數學': '94', '地理': '78', '歷史': '59'}]"
      ]
     },
     "execution_count": 24,
     "metadata": {},
     "output_type": "execute_result"
    }
   ],
   "source": [
    "import csv\n",
    "\n",
    "try :\n",
    "    file = open ('students.csv',encoding='utf-8',mode='r',newline='')\n",
    "    csv_dictReader = csv.DictReader(file)\n",
    "    print(csv_dictReader)         #資料型態<csv.DictReader object at 0x0000020AF9BF1CF0>\n",
    "    csv_list = list(csv_dictReader)   #轉換為python之list資料結構,list 裡面之資料型態為dict[ {} ]\n",
    "    print(type(csv_list))      \n",
    "        \n",
    "    file.close()            #實體方法    \n",
    "    print(file.closed )     #實體attribute ,讀檔後一定要關閉  open .file.closed\n",
    "except:\n",
    "    print('讀取錯誤')\n",
    "csv_list"
   ]
  },
  {
   "cell_type": "code",
   "execution_count": null,
   "metadata": {},
   "outputs": [],
   "source": []
  }
 ],
 "metadata": {
  "kernelspec": {
   "display_name": ".venv",
   "language": "python",
   "name": "python3"
  },
  "language_info": {
   "codemirror_mode": {
    "name": "ipython",
    "version": 3
   },
   "file_extension": ".py",
   "mimetype": "text/x-python",
   "name": "python",
   "nbconvert_exporter": "python",
   "pygments_lexer": "ipython3",
   "version": "3.10.8"
  }
 },
 "nbformat": 4,
 "nbformat_minor": 2
}
