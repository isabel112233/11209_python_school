{
 "cells": [
  {
   "cell_type": "code",
   "execution_count": 41,
   "metadata": {},
   "outputs": [
    {
     "name": "stdout",
     "output_type": "stream",
     "text": [
      "[2, 6, 4, 4]\n",
      "2 True\n",
      "6 True\n",
      "4 False\n",
      "4 False\n",
      "8\n"
     ]
    }
   ],
   "source": [
    "import random\n",
    "\n",
    "point = 0\n",
    "while point ==0:        \n",
    "    dice1 = random.randint(1, 6)\n",
    "    dice2 = random.randint(1, 6)\n",
    "    dice3 = random.randint(1,6)\n",
    "    dice4 = random.randint(1, 6)         \n",
    "    num = [dice1, dice2, dice3, dice4]   \n",
    "    print (num)     \n",
    "    lt = []\n",
    "        \n",
    "    for i in num :    \n",
    "        lt.append(num.count(i))                     \n",
    "    if sum(lt) ==4 or sum(lt) == 10 :\n",
    "        point =0           \n",
    "    elif sum(lt) == 6 :\n",
    "        j=0\n",
    "        for j in range(4):\n",
    "            point += num[j] * (num.count(num[j])==1 ) \n",
    "            print(num[j],(num.count(num[j])==1))    \n",
    "    elif sum(lt) == 8 :\n",
    "        point = max(num)*2\n",
    "    else :\n",
    "        point = num[0] + 12        \n",
    "print (point)"
   ]
  },
  {
   "cell_type": "code",
   "execution_count": 21,
   "metadata": {},
   "outputs": [
    {
     "name": "stdout",
     "output_type": "stream",
     "text": [
      "[9, 9]\n"
     ]
    }
   ],
   "source": [
    "i = 0\n",
    "w = []\n",
    "j=0\n",
    "p = [9,8,9,4,5]\n",
    "x =max( [p[i] for i in range(5) ])\n",
    "for j in range(len(p)):\n",
    "    if x == p[j]:\n",
    "        w.append(p[j])\n",
    "print(w)\n",
    "\n",
    "\n"
   ]
  },
  {
   "cell_type": "markdown",
   "metadata": {},
   "source": []
  }
 ],
 "metadata": {
  "kernelspec": {
   "display_name": ".venv",
   "language": "python",
   "name": "python3"
  },
  "language_info": {
   "codemirror_mode": {
    "name": "ipython",
    "version": 3
   },
   "file_extension": ".py",
   "mimetype": "text/x-python",
   "name": "python",
   "nbconvert_exporter": "python",
   "pygments_lexer": "ipython3",
   "version": "3.10.8"
  },
  "orig_nbformat": 4
 },
 "nbformat": 4,
 "nbformat_minor": 2
}
