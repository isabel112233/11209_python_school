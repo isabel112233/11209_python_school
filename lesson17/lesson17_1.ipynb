{
 "cells": [
  {
   "cell_type": "code",
   "execution_count": 10,
   "metadata": {},
   "outputs": [
    {
     "name": "stdout",
     "output_type": "stream",
     "text": [
      "徐國堂 18 70 170\n",
      "\n",
      "姓名:徐國堂\n",
      "age:18\n",
      "體重:70\n",
      "身高:170\n"
     ]
    }
   ],
   "source": [
    "class Person():\n",
    "    def __init__(self,name,age=18,weight=70,height=170):\n",
    "        self.name = name\n",
    "        self.age = age\n",
    "        self.weight = weight\n",
    "        self.height = height\n",
    "\n",
    "    def description(self):\n",
    "        print(f\"姓名:{self.name}\")\n",
    "        print(f\"age:{self.age}\")\n",
    "        print(f\"體重:{self.weight}\")\n",
    "        print(f\"身高:{self.height}\")\n",
    "\n",
    "p1 = Person(name=\"徐國堂\")\n",
    "print(p1.name,p1.age,p1.weight,p1.height)\n",
    "print()\n",
    "p1.description()\n",
    "\n"
   ]
  },
  {
   "cell_type": "code",
   "execution_count": 15,
   "metadata": {},
   "outputs": [
    {
     "name": "stdout",
     "output_type": "stream",
     "text": [
      "{'age': 25, 'weight': 78, 'height': 170}\n",
      "姓名:徐國堂\n",
      "age:25\n",
      "體重:78\n",
      "身高:170\n",
      "id:12345\n"
     ]
    }
   ],
   "source": [
    "class Student(Person):      #繼承 class Person\n",
    "    def __init__(self,name,id,**kwargs):   # **kwargs為不限數量之dict的參數,以改變父類別預設(age,weight,height)之資料\n",
    "        #kwargs = {'age':25,'weight':78,'height':170}   #變數kwargs,不執行則為預設值\n",
    "        print(kwargs)\n",
    "        super().__init__(name,**kwargs)    #執行父類別之資料將變數之kwargs資料放入\n",
    "        self.id = id\n",
    "\n",
    "    def description(self):\n",
    "        super().description()    #繼承父類別之description() \n",
    "        print(f\"id:{self.id}\")   #增加子類別新增加之資料\n",
    "\n",
    "stu1 = Student(name=\"徐國堂\",id=\"12345\")\n",
    "stu1.description()             #description是繼承父類別但會少子類別之資料,解決增加子類別之 def description"
   ]
  }
 ],
 "metadata": {
  "kernelspec": {
   "display_name": ".venv",
   "language": "python",
   "name": "python3"
  },
  "language_info": {
   "codemirror_mode": {
    "name": "ipython",
    "version": 3
   },
   "file_extension": ".py",
   "mimetype": "text/x-python",
   "name": "python",
   "nbconvert_exporter": "python",
   "pygments_lexer": "ipython3",
   "version": "3.10.8"
  }
 },
 "nbformat": 4,
 "nbformat_minor": 2
}
