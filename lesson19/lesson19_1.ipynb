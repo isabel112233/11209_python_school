{
 "cells": [
  {
   "cell_type": "code",
   "execution_count": 6,
   "metadata": {},
   "outputs": [],
   "source": [
    "import requests\n",
    "url = \"https://tcgbusfs.blob.core.windows.net/dotapp/youbike/v2/youbike_immediate.json\"\n",
    "try:\n",
    "    response = requests.request(\"GET\",url)\n",
    "    response.raise_for_status()     #錯誤時傳出訊息\n",
    "except :      #檢查錯誤訊息可用except Exception as e \n",
    "    print(\"網路有問題\")\n",
    "else:\n",
    "    if response.status_code == 200 :\n",
    "        try:\n",
    "            data = response.json()  \n",
    "        except requests.JSONDecodeError:\n",
    "            print(\"無法轉換為json\")"
   ]
  },
  {
   "cell_type": "code",
   "execution_count": null,
   "metadata": {},
   "outputs": [],
   "source": [
    "data"
   ]
  }
 ],
 "metadata": {
  "kernelspec": {
   "display_name": ".venv",
   "language": "python",
   "name": "python3"
  },
  "language_info": {
   "codemirror_mode": {
    "name": "ipython",
    "version": 3
   },
   "file_extension": ".py",
   "mimetype": "text/x-python",
   "name": "python",
   "nbconvert_exporter": "python",
   "pygments_lexer": "ipython3",
   "version": "3.10.8"
  }
 },
 "nbformat": 4,
 "nbformat_minor": 2
}
