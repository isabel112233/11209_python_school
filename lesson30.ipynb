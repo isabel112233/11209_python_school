{
 "cells": [
  {
   "cell_type": "code",
   "execution_count": null,
   "metadata": {},
   "outputs": [],
   "source": [
    "import tkinter as tk\n",
    "import tkintermapview as tkmap\n",
    "\n",
    "class Window(tk.Tk):\n",
    "    def __init__(self):\n",
    "        super().__init__()\n",
    "        #建立地圖\n",
    "        map_widget = tkmap.TkinterMapView(self,\n",
    "                                          width=800,\n",
    "                                          height=600,\n",
    "                                          corner_radius=0,\n",
    "                                          )\n",
    "        map_widget.place(relx=0.5, rely=0.5, anchor=tk.CENTER)\n",
    "        marker_1 = map_widget.set_position(25.038128318756307, 121.56306490172479,marker=True) #台北市位置\n",
    "        map_widget.set_zoom(15) #設定顯示大小\n",
    "        marker_1.set_text(\"台北市中心\")\n",
    "        # marker_1.set_position(48.860381, 2.338594)  # 改變位置\n",
    "        # marker_1.delete()刪除\n",
    "\n",
    "if __name__ == \"__main__\":\n",
    "    window = Window()\n",
    "    window.geometry(\"800x600\")\n",
    "    window.title(\"地圖\")\n",
    "    window.mainloop()"
   ]
  }
 ],
 "metadata": {
  "language_info": {
   "name": "python"
  }
 },
 "nbformat": 4,
 "nbformat_minor": 2
}
