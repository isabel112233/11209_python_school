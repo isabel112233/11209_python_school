{
 "cells": [
  {
   "cell_type": "code",
   "execution_count": 5,
   "metadata": {},
   "outputs": [
    {
     "data": {
      "text/plain": [
       "13"
      ]
     },
     "execution_count": 5,
     "metadata": {},
     "output_type": "execute_result"
    }
   ],
   "source": [
    "5 + 8"
   ]
  },
  {
   "cell_type": "code",
   "execution_count": 6,
   "metadata": {},
   "outputs": [
    {
     "data": {
      "text/plain": [
       "80"
      ]
     },
     "execution_count": 6,
     "metadata": {},
     "output_type": "execute_result"
    }
   ],
   "source": [
    "90-10\n"
   ]
  },
  {
   "cell_type": "code",
   "execution_count": 7,
   "metadata": {},
   "outputs": [
    {
     "data": {
      "text/plain": [
       "28"
      ]
     },
     "execution_count": 7,
     "metadata": {},
     "output_type": "execute_result"
    }
   ],
   "source": [
    "4*7"
   ]
  },
  {
   "cell_type": "code",
   "execution_count": 4,
   "metadata": {},
   "outputs": [
    {
     "data": {
      "text/plain": [
       "(3.5, 3, 1, 81)"
      ]
     },
     "execution_count": 4,
     "metadata": {},
     "output_type": "execute_result"
    }
   ],
   "source": [
    "(7/2 ,7//2 , 7%3 , 3**4)\n",
    "7/2 ,7//2 , 7%3 , 3**4    #也可以不用括號"
   ]
  },
  {
   "cell_type": "code",
   "execution_count": 13,
   "metadata": {},
   "outputs": [
    {
     "name": "stdout",
     "output_type": "stream",
     "text": [
      "<class 'int'>\n",
      "<class 'float'>\n",
      "<class 'bool'>\n",
      "<class 'tuple'>\n"
     ]
    }
   ],
   "source": [
    "n1=5\n",
    "print(type(n1))\n",
    "n1=5.0\n",
    "print(type(n1))\n",
    "n1=True\n",
    "print(type(n1))\n",
    "n1=3,4,5\n",
    "print(type(n1))\n"
   ]
  },
  {
   "cell_type": "code",
   "execution_count": 14,
   "metadata": {},
   "outputs": [
    {
     "name": "stdout",
     "output_type": "stream",
     "text": [
      "請輸入整數\n"
     ]
    },
    {
     "data": {
      "text/plain": [
       "'50'"
      ]
     },
     "execution_count": 14,
     "metadata": {},
     "output_type": "execute_result"
    }
   ],
   "source": [
    "print(\"請輸入整數\")\n",
    "input()         #input都是傳出字串"
   ]
  },
  {
   "cell_type": "code",
   "execution_count": 15,
   "metadata": {},
   "outputs": [
    {
     "data": {
      "text/plain": [
       "'50'"
      ]
     },
     "execution_count": 15,
     "metadata": {},
     "output_type": "execute_result"
    }
   ],
   "source": [
    "input(\"請輸入整數\")     #輸入的值叫引數,一定要字串\n"
   ]
  },
  {
   "cell_type": "code",
   "execution_count": 16,
   "metadata": {},
   "outputs": [
    {
     "data": {
      "text/plain": [
       "'50100'"
      ]
     },
     "execution_count": 16,
     "metadata": {},
     "output_type": "execute_result"
    }
   ],
   "source": [
    "\"50\"  + \"100\""
   ]
  },
  {
   "cell_type": "code",
   "execution_count": 17,
   "metadata": {},
   "outputs": [
    {
     "data": {
      "text/plain": [
       "150"
      ]
     },
     "execution_count": 17,
     "metadata": {},
     "output_type": "execute_result"
    }
   ],
   "source": [
    "#   \"50\" + 100     字串不能跟數值相加\n",
    "int(\"50\") + int(\"100\")"
   ]
  },
  {
   "cell_type": "code",
   "execution_count": 18,
   "metadata": {},
   "outputs": [
    {
     "data": {
      "text/plain": [
       "int"
      ]
     },
     "execution_count": 18,
     "metadata": {},
     "output_type": "execute_result"
    }
   ],
   "source": [
    "n1 = int(input(\"請輸入整數\")  )\n",
    "type(n1)"
   ]
  },
  {
   "cell_type": "code",
   "execution_count": 19,
   "metadata": {},
   "outputs": [
    {
     "data": {
      "text/plain": [
       "10"
      ]
     },
     "execution_count": 19,
     "metadata": {},
     "output_type": "execute_result"
    }
   ],
   "source": [
    "n = 10\n",
    "n + 20     #未被儲存\n",
    "n"
   ]
  },
  {
   "cell_type": "code",
   "execution_count": 20,
   "metadata": {},
   "outputs": [
    {
     "data": {
      "text/plain": [
       "30"
      ]
     },
     "execution_count": 20,
     "metadata": {},
     "output_type": "execute_result"
    }
   ],
   "source": [
    "n = 10\n",
    "n = n + 20\n",
    "n"
   ]
  },
  {
   "cell_type": "code",
   "execution_count": 21,
   "metadata": {},
   "outputs": [
    {
     "data": {
      "text/plain": [
       "30"
      ]
     },
     "execution_count": 21,
     "metadata": {},
     "output_type": "execute_result"
    }
   ],
   "source": [
    "n = 10\n",
    "n += 20       #使用複合指定運算子 += -= *= /= //= %=\n",
    "n"
   ]
  },
  {
   "cell_type": "code",
   "execution_count": 25,
   "metadata": {},
   "outputs": [
    {
     "name": "stdout",
     "output_type": "stream",
     "text": [
      "3數相加的值是: 124.30000000000001\n"
     ]
    }
   ],
   "source": [
    "# 請以(複合指定運算子)設計程式,讓使用者輸入三個任意數,程式會顥示3數相加的總合(float)\n",
    "total = 0\n",
    "keyin = float(input(\"請輸入第1個數:\"))\n",
    "total += keyin\n",
    "keyin = float(input(\"請輸入第2個數:\"))\n",
    "total += keyin\n",
    "keyin = float(input(\"請輸入第3個數:\"))\n",
    "total += keyin\n",
    "\n",
    "print(\"3數相加的值是:\",total)"
   ]
  },
  {
   "cell_type": "code",
   "execution_count": 29,
   "metadata": {},
   "outputs": [
    {
     "name": "stdout",
     "output_type": "stream",
     "text": [
      "梯形的面積: 82.15 平方公分\n"
     ]
    }
   ],
   "source": [
    "#計算梯形面積(上底+下底)*高/2\n",
    "\n",
    "a = float(input(\"請輸入梯形的上底(公分):\"))\n",
    "b = float(input(\"請輸入梯形的下底(公分):\"))\n",
    "h = float(input(\"請輸入梯形的高(公分):\"))\n",
    "\n",
    "area = (a+b)*h/2\n",
    "print(\"梯形的面積:\",round(area , ndigits=2),\"平方公分\")   #引數呼叫"
   ]
  },
  {
   "cell_type": "code",
   "execution_count": 48,
   "metadata": {},
   "outputs": [
    {
     "name": "stdout",
     "output_type": "stream",
     "text": [
      "對邊:2.5cm,斜邊:5.0cm,角度30.0度\n"
     ]
    }
   ],
   "source": [
    "import math\n",
    "n1 = float(input(\"請輸入對邊:\"))\n",
    "n2 = float(input(\"請輸入斜邊:\"))\n",
    "radian =  math.asin(n1/n2)           #計算弧度\n",
    "#radian / math.pi * 180              #計算角度\n",
    "\n",
    "degrees = round(math.degrees(radian),ndigits=2)    #計算角度\n",
    "#print(\"對邊:\",n1,\"cm,斜邊:\",n2,\"cm,角度:\", degrees ,\"度\",sep=\"\",end=\".\\n\")   #sep=\" \" 預設空一格 #end=\".\\n\"換行\n",
    "#print(\"對邊:{0:.2f}cm,斜邊:{1:.2f}cm,角度{2:.2f}度\".format(n1,n2,degrees))    #.2f強制輸出小數2位\n",
    "#print(f\"對邊:{n1:.2f}cm,斜邊:{n2:.2f}cm,角度{degrees:.2f}度\")     #n1:2f冒號後設特殊符號(設定位數及浮繛數等),無則省略\n",
    "\n",
    "print(f\"對邊:{n1}cm,斜邊:{n2}cm,角度{degrees}度\")\n"
   ]
  },
  {
   "cell_type": "code",
   "execution_count": 53,
   "metadata": {},
   "outputs": [
    {
     "name": "stdout",
     "output_type": "stream",
     "text": [
      "5.94418483337567\n",
      "1.8257418583505538\n"
     ]
    },
    {
     "data": {
      "text/plain": [
       "(5.94418483337567, 1.8257418583505538)"
      ]
     },
     "execution_count": 53,
     "metadata": {},
     "output_type": "execute_result"
    }
   ],
   "source": [
    "import statistics\n",
    "statistics.mean((0,5,9,14))\n",
    "statistics.mean((5,6,8,9))\n",
    "\n",
    "print(statistics.stdev((0,5,9,14)))    #計算標準差函數  statistics.stdev\n",
    "print(statistics.stdev((5,6,8,9)))\n",
    "statistics.stdev((0,5,9,14)) , statistics.stdev((5,6,8,9) ) #tuple形式\n"
   ]
  },
  {
   "cell_type": "code",
   "execution_count": 8,
   "metadata": {},
   "outputs": [
    {
     "data": {
      "text/plain": [
       "8.712129999831063"
      ]
     },
     "execution_count": 8,
     "metadata": {},
     "output_type": "execute_result"
    }
   ],
   "source": [
    "import math\n",
    "\n",
    "math.log(1000,10)\n",
    "math.log(22000/20000,10) / math.log(1.011,10)\n",
    "math.log(22000/20000) / math.log(1.011)"
   ]
  },
  {
   "cell_type": "code",
   "execution_count": 9,
   "metadata": {},
   "outputs": [
    {
     "data": {
      "text/plain": [
       "Decimal('26.99999999999998920000000000')"
      ]
     },
     "execution_count": 9,
     "metadata": {},
     "output_type": "execute_result"
    }
   ],
   "source": [
    "import decimal\n",
    "\n",
    "decimal.Decimal(\"2.9999999999999996\")**3   #用字串表示"
   ]
  }
 ],
 "metadata": {
  "kernelspec": {
   "display_name": ".venv",
   "language": "python",
   "name": "python3"
  },
  "language_info": {
   "codemirror_mode": {
    "name": "ipython",
    "version": 3
   },
   "file_extension": ".py",
   "mimetype": "text/x-python",
   "name": "python",
   "nbconvert_exporter": "python",
   "pygments_lexer": "ipython3",
   "version": "3.10.8"
  },
  "orig_nbformat": 4
 },
 "nbformat": 4,
 "nbformat_minor": 2
}
