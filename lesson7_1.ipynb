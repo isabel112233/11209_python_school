{
 "cells": [
  {
   "cell_type": "code",
   "execution_count": 7,
   "metadata": {},
   "outputs": [
    {
     "name": "stdout",
     "output_type": "stream",
     "text": [
      "請輸入學生分數:59\n",
      "丁\n"
     ]
    }
   ],
   "source": [
    "# 90(含)~100分為「優」\n",
    "# 80(含)~89分為「甲」\n",
    "# 70(含)~79分為「乙」\n",
    "# 60(含)~69分為「丙」\n",
    "# 0(含)~59分為「丁」\n",
    "\n",
    "import pyinputplus as pyip\n",
    "\n",
    "score = pyip.inputInt(\"請輸入學生分數:\",min=0,max=100)\n",
    "\n",
    "print(score)\n",
    "message = \"\"\n",
    "#巢狀判斷,使用4個if\n",
    "if score >=90 :\n",
    "    message = \"優\"\n",
    "else:\n",
    "    if score  >=80 :\n",
    "        message =\"甲\"\n",
    "    else:\n",
    "        if score  >=70 :\n",
    "            message =\"乙\"\n",
    "        else:\n",
    "            if  score >=60 :\n",
    "                message =\"丙\"\n",
    "            else :\n",
    "                message =\"丁\"\n",
    "\n",
    "print (message)"
   ]
  },
  {
   "cell_type": "code",
   "execution_count": 13,
   "metadata": {},
   "outputs": [
    {
     "name": "stdout",
     "output_type": "stream",
     "text": [
      "請輸入學生分數:99\n",
      "優\n"
     ]
    }
   ],
   "source": [
    "# 90(含)~100分為「優」\n",
    "# 80(含)~89分為「甲」\n",
    "# 70(含)~79分為「乙」\n",
    "# 60(含)~69分為「丙」\n",
    "# 0(含)~59分為「丁」\n",
    "\n",
    "import pyinputplus as pyip\n",
    "\n",
    "score = pyip.inputInt(\"請輸入學生分數:\",min=0,max=100)\n",
    "\n",
    "print(score)\n",
    "message = \"\"\n",
    "#多項選擇,使用1個if\n",
    "if score >=90 :\n",
    "    message = \"優\"\n",
    "elif score  >=80:\n",
    "    message =\"甲\"\n",
    "elif score  >=70:     \n",
    "    message =\"乙\"\n",
    "elif  score >=60 :\n",
    "    message =\"丙\"\n",
    "else :\n",
    "    message =\"丁\"\n",
    "\n",
    "print (message)"
   ]
  },
  {
   "cell_type": "code",
   "execution_count": 29,
   "metadata": {},
   "outputs": [
    {
     "name": "stdout",
     "output_type": "stream",
     "text": [
      "請輸入購買金額:130000元\n",
      "實付金額:104000.0元\n"
     ]
    }
   ],
   "source": [
    "# 請輸入顧客購買金額,若金額在\n",
    "# 100000元打8折\n",
    "# 50000元打85折\n",
    "# 30000元打9折\n",
    "# 10000元打95折\n",
    "\n",
    "#請輸入購買金額130000\n",
    "#實付金額是:104000.0元\n",
    "\n",
    "import pyinputplus as pyip\n",
    "\n",
    "mon = pyip.inputInt(\"請輸入購買金額:\",min=0)\n",
    "\n",
    "print(f\"{mon}元\")\n",
    "dic = \"\"\n",
    "#多項選擇,使用1個if\n",
    "if mon >=100000 :\n",
    "    dic = 0.8\n",
    "elif mon  >=50000:\n",
    "    dic = 0.85\n",
    "elif mon  >=30000:     \n",
    "    dic = 0.9\n",
    "elif  mon >=10000 :\n",
    "    dic =0.9\n",
    "else :\n",
    "   dic = 1\n",
    "\n",
    "print (f\"實付金額是:{mon*dic}元\")"
   ]
  },
  {
   "cell_type": "code",
   "execution_count": 48,
   "metadata": {},
   "outputs": [
    {
     "name": "stdout",
     "output_type": "stream",
     "text": [
      "請輸入購買金額:150000元\n",
      "實付金額是:108000.0元\n"
     ]
    }
   ],
   "source": [
    "# 請輸入顧客購買金額,若金額在\n",
    "# 滿千送百後再打折\n",
    "# 100000元打8折\n",
    "# 50000元打85折\n",
    "# 30000元打9折\n",
    "# 10000元打95折\n",
    "\n",
    "mon1 = pyip.inputInt(\"請輸入購買金額:\",min=0)\n",
    "print(f\"{mon1}元\")\n",
    "dic1 = mon1 //1000 *100\n",
    "\n",
    "mon = mon1- dic1\n",
    "\n",
    "dic = \"\"\n",
    "#多項選擇,使用1個if\n",
    "if mon >=100000 :\n",
    "    dic = 0.8\n",
    "elif mon  >=50000:\n",
    "    dic = 0.85\n",
    "elif mon  >=30000:     \n",
    "    dic = 0.9\n",
    "elif  mon >=10000 :\n",
    "    dic =0.9\n",
    "else :\n",
    "   dic = 1\n",
    "\n",
    "\n",
    "\n",
    "print (f\"實付金額是:{mon*dic}元\")"
   ]
  },
  {
   "cell_type": "code",
   "execution_count": 54,
   "metadata": {},
   "outputs": [
    {
     "name": "stdout",
     "output_type": "stream",
     "text": [
      "請輸入國文分數95分\n",
      "請輸入數學分數100分\n",
      "獎金:500元\n"
     ]
    }
   ],
   "source": [
    "chinese = pyip.inputInt(\"請輸入國文分數\",min=0,max=100)\n",
    "print(f\"{chinese}分\")\n",
    "math = pyip.inputInt(\"請輸入數學分數\",min=0,max=100)\n",
    "print(f\"{math}分\")\n",
    "\n",
    "if chinese ==100 and math ==100 :\n",
    "    bonus = 1000\n",
    "elif chinese ==100 or math == 100:\n",
    "    bonus = 500\n",
    "else :\n",
    "    bonus = 0\n",
    "\n",
    "print (f\"獎金:{bonus}元\")"
   ]
  }
 ],
 "metadata": {
  "kernelspec": {
   "display_name": ".venv",
   "language": "python",
   "name": "python3"
  },
  "language_info": {
   "codemirror_mode": {
    "name": "ipython",
    "version": 3
   },
   "file_extension": ".py",
   "mimetype": "text/x-python",
   "name": "python",
   "nbconvert_exporter": "python",
   "pygments_lexer": "ipython3",
   "version": "3.10.8"
  },
  "orig_nbformat": 4
 },
 "nbformat": 4,
 "nbformat_minor": 2
}
