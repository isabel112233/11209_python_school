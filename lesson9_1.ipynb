{
 "cells": [
  {
   "cell_type": "code",
   "execution_count": 6,
   "metadata": {},
   "outputs": [
    {
     "name": "stdout",
     "output_type": "stream",
     "text": [
      "請輸入第1月份的存款:10000元\n",
      "目前距離目標還差:29000元\n",
      "================\n",
      "請輸入第2月份的存款:15000元\n",
      "目前距離目標還差:14000元\n",
      "================\n",
      "請輸入第3月份的存款:3750元\n",
      "目前距離目標還差:10250元\n",
      "================\n",
      "請輸入第4月份的存款:9950元\n",
      "目前距離目標還差:300元\n",
      "================\n",
      "請輸入第5月份的存款:2500元\n",
      "恭喜!已經存夠,總共存5個月總存款數為:41200元\n"
     ]
    }
   ],
   "source": [
    "#小明想存錢買一輛車,機車每輛39000元,他將每月存的錢輸入,當存款足夠買機車時,就顥示提示訊息告知\n",
    "\n",
    "import pyinputplus as pyip\n",
    "\n",
    "deposit = 0\n",
    "month = 0\n",
    "while (deposit < 39000) :\n",
    "    month += 1\n",
    "    input_value = pyip.inputInt(f\"請輸入第{month}月份的存款:\")\n",
    "    print(f'{input_value}元')\n",
    "    deposit += input_value\n",
    "    if deposit <39000 :\n",
    "        print(f\"目前距離目標還差:{39000-deposit}元\")\n",
    "        print(\"================\")\n",
    "\n",
    "print(f\"恭喜!已經存夠,總共存{month}個月總存款數為:{deposit}元\")\n"
   ]
  },
  {
   "cell_type": "code",
   "execution_count": 2,
   "metadata": {},
   "outputs": [
    {
     "name": "stdout",
     "output_type": "stream",
     "text": [
      "a\n",
      "b\n",
      "c\n"
     ]
    }
   ],
   "source": [
    "\n",
    "while(True) :\n",
    "    stuff = input(\"請輸入小寫英文字[按q會離開]:\")\n",
    "    if stuff == \"q\" :\n",
    "        break\n",
    "    print(stuff)    "
   ]
  },
  {
   "cell_type": "code",
   "execution_count": 4,
   "metadata": {},
   "outputs": [
    {
     "name": "stdout",
     "output_type": "stream",
     "text": [
      "不作動作,請重新輸入\n",
      "3的平方是9\n",
      "5的平方是25\n",
      "5的平方是25\n"
     ]
    }
   ],
   "source": [
    "# 奇數輸出平方\n",
    "# 偶數不做任何動作\n",
    "\n",
    "while(True) :\n",
    "    keyin  = input(\"請輸入整數,輸入[q]會離開]:\")\n",
    "    if keyin == \"q\" :\n",
    "        break\n",
    "    value = int(keyin)      #raise  使用try except else\n",
    "    if value % 2 == 0:\n",
    "        print(\"不作動作,請重新輸入\")\n",
    "        continue\n",
    "    else:\n",
    "        print (f\"{value}的平方是{value**2}\")\n",
    "        "
   ]
  },
  {
   "cell_type": "code",
   "execution_count": 5,
   "metadata": {},
   "outputs": [
    {
     "name": "stdout",
     "output_type": "stream",
     "text": [
      "不作動作,請重新輸入\n",
      "3的平方是9\n",
      "5的平方是25\n",
      "豬頭\n"
     ]
    }
   ],
   "source": [
    "# 奇數輸出平方\n",
    "# 偶數不做任何動作\n",
    "\n",
    "while(True) :\n",
    "    keyin  = input(\"請輸入整數,輸入[q]會離開]:\")\n",
    "    if keyin == \"q\" :\n",
    "        break\n",
    "    try :\n",
    "        value = int(keyin)      \n",
    "    except :\n",
    "        print(\"豬頭\")\n",
    "        continue\n",
    "    else:\n",
    "        if value % 2 == 0:\n",
    "            print(\"不作動作,請重新輸入\")\n",
    "            continue\n",
    "        else:\n",
    "            print (f\"{value}的平方是{value**2}\")"
   ]
  },
  {
   "cell_type": "code",
   "execution_count": 4,
   "metadata": {},
   "outputs": [
    {
     "name": "stdout",
     "output_type": "stream",
     "text": [
      "a 不是整數,請輸入整數\n",
      "a 不是整數,請輸入整數\n",
      "v 不是整數,請輸入整數\n",
      "8\n"
     ]
    }
   ],
   "source": [
    "while True :\n",
    "    input_value  = input(\"請輸入整數,輸入[q]會離開]:\")\n",
    "    if input_value == \"q\" :\n",
    "        break\n",
    "    try :\n",
    "        input_value = int(input_value)\n",
    "    except :\n",
    "        print(input_value,\"不是整數,請輸入整數\")\n",
    "        continue\n",
    "    else :\n",
    "        print (input_value)\n",
    "        break\n"
   ]
  },
  {
   "cell_type": "code",
   "execution_count": 6,
   "metadata": {},
   "outputs": [
    {
     "name": "stdout",
     "output_type": "stream",
     "text": [
      "a 不是整數,請輸入整數\n",
      "b 不是整數,請輸入整數\n",
      "c 不是整數,請輸入整數\n",
      "數值必需在0~20之間\n",
      "15\n"
     ]
    }
   ],
   "source": [
    "while True :\n",
    "    \n",
    "    try :\n",
    "        key_in = input(\"請輸入整數\")\n",
    "        value = int(key_in)\n",
    "    except :\n",
    "        print(key_in,\"不是整數,請輸入整數\")\n",
    "        continue\n",
    "    else :\n",
    "        if value <= 20 and value >= 10 :\n",
    "            break\n",
    "        else :\n",
    "            print (\"數值必需在0~20之間\")\n",
    "            continue\n",
    "print(value)"
   ]
  },
  {
   "cell_type": "code",
   "execution_count": 7,
   "metadata": {},
   "outputs": [],
   "source": [
    "def input_int(prompt:str,max:int | None = None,min:int | None = None) -> int:\n",
    "    while True:\n",
    "        try:\n",
    "            key_in = input(prompt)\n",
    "            value = int(key_in)\n",
    "        except:\n",
    "            print(f\"{key_in}格式錯誤,請重新輸入\")\n",
    "            continue\n",
    "        else:\n",
    "            if max is not None and min is not None:\n",
    "                if value<=max and value>=min:\n",
    "                    return value\n",
    "                else:\n",
    "                    print(f\"數值必需在{min}~{max}之間\")    \n",
    "                    continue\n",
    "            else:\n",
    "                return value\n",
    "    "
   ]
  },
  {
   "cell_type": "code",
   "execution_count": 8,
   "metadata": {},
   "outputs": [
    {
     "name": "stdout",
     "output_type": "stream",
     "text": [
      "a格式錯誤,請重新輸入\n",
      "b格式錯誤,請重新輸入\n",
      "50\n"
     ]
    }
   ],
   "source": [
    "value = input_int(prompt=\"請輸入整數:\")\n",
    "print(value)"
   ]
  },
  {
   "cell_type": "code",
   "execution_count": 9,
   "metadata": {},
   "outputs": [
    {
     "name": "stdout",
     "output_type": "stream",
     "text": [
      "a格式錯誤,請重新輸入\n",
      "v格式錯誤,請重新輸入\n",
      "v格式錯誤,請重新輸入\n",
      "數值必需在10~30之間\n",
      "15\n"
     ]
    }
   ],
   "source": [
    "value = input_int(prompt=\"請輸入整數:\",max=30,min=10)\n",
    "print(value)"
   ]
  }
 ],
 "metadata": {
  "kernelspec": {
   "display_name": ".venv",
   "language": "python",
   "name": "python3"
  },
  "language_info": {
   "codemirror_mode": {
    "name": "ipython",
    "version": 3
   },
   "file_extension": ".py",
   "mimetype": "text/x-python",
   "name": "python",
   "nbconvert_exporter": "python",
   "pygments_lexer": "ipython3",
   "version": "3.10.8"
  },
  "orig_nbformat": 4
 },
 "nbformat": 4,
 "nbformat_minor": 2
}
