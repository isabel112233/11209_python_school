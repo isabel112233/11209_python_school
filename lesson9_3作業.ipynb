{
 "cells": [
  {
   "cell_type": "code",
<<<<<<< HEAD
   "execution_count": 3,
=======
   "execution_count": 12,
>>>>>>> e241301c241d63bf835c37d32f45b8d2a894636c
   "metadata": {},
   "outputs": [
    {
     "name": "stdout",
     "output_type": "stream",
     "text": [
<<<<<<< HEAD
      "29\n",
      "===============猜數字遊戲(1~100)=================:\n",
      "\n",
      "猜數字範圍1~49，您已經猜了1次 再小一點\n",
      "猜數字範圍26~49，您已經猜了2次 再大一點\n",
      "猜數字範圍26~33，您已經猜了3次 再小一點\n",
      "猜數字範圍29~33，您已經猜了4次 再大一點\n",
      "您猜中了,答案是29,您共猜了5次\n"
=======
      "===============猜數字遊戲(1~100)=================:\n",
      "\n"
     ]
    },
    {
     "name": "stdout",
     "output_type": "stream",
     "text": [
      "猜數字範圍1~67，您已經猜了1次 再小一點\n",
      "猜數字範圍1~45，您已經猜了2次 再小一點\n",
      "猜數字範圍23~45，您已經猜了3次 再大一點\n",
      "猜數字範圍23~37，您已經猜了4次 再小一點\n",
      "您猜中了,答案是28,您共猜了5次\n"
>>>>>>> e241301c241d63bf835c37d32f45b8d2a894636c
     ]
    }
   ],
   "source": [
    "import random\n",
    "\n",
    "min = 1\n",
    "max = 100\n",
    "count = 0\n",
    "\n",
    "target = random.randint(min, max)\n",
    "#print (target)\n",
    "print(\"===============猜數字遊戲(1~100)=================:\\n\")\n",
    "while(True):\n",
<<<<<<< HEAD
    "    \n",
    "    keyin = int(input(f\"猜數字範圍{min}~{max}\"))\n",
    "    count += 1\n",
    "    \n",
    "    if keyin > 100 or keyin <1 :\n",
    "        print(\"輸人格式錯誤,或數字範圍錯襄誤，請重新輸入\")\n",
    "    elif keyin < target:      \n",
    "        min = keyin+1\n",
    "        print(f\"猜數字範圍{min}~{max}，您已經猜了{count}次\",\"再大一點\")\n",
    "    elif keyin > target :\n",
    "        max = keyin-1\n",
    "        print(f\"猜數字範圍{min}~{max}，您已經猜了{count}次\",\"再小一點\")\n",
    "    else :\n",
    "        print(f\"您猜中了,答案是{keyin},您共猜了{count}次\")\n",
    "        break\n",
    "\n",
    "\n"
   ]
  },
  {
   "cell_type": "code",
   "execution_count": 4,
   "metadata": {},
   "outputs": [
    {
     "name": "stdout",
     "output_type": "stream",
     "text": [
      "85\n",
      "===============猜數字遊戲(1~100)=================:\n",
      "\n",
      "猜數字範圍51~100，您已經猜了1次 再大一點\n",
      "猜數字範圍85~100，您已經猜了2次 再大一點\n",
      "您猜中了,答案是85,您共猜了3次\n",
      "還要繼續嗎?(y,n)12\n",
      "===============猜數字遊戲(1~100)=================:\n",
      "\n",
      "猜數字範圍1~49，您已經猜了1次 再小一點\n",
      "猜數字範圍1~24，您已經猜了2次 再小一點\n",
      "猜數字範圍1~12，您已經猜了3次 再小一點\n",
      "猜數字範圍9~12，您已經猜了4次 再大一點\n",
      "猜數字範圍12~12，您已經猜了5次 再大一點\n",
      "您猜中了,答案是12,您共猜了6次\n",
      "還要繼續嗎?(y,n)遊戲結束\n"
     ]
    }
   ],
   "source": [
    "import random\n",
    "import pyinputplus as pyip\n",
    "while (True) :\n",
    "   min = 1\n",
    "   max = 100\n",
    "   count = 0\n",
    "   target = random.randint(min, max)\n",
    "   print (target)\n",
    "   print(\"===============猜數字遊戲(1~100)=================:\\n\")\n",
    "   while(True):\n",
    "      \n",
    "      keyin = int(input(f\"猜數字範圍{min}~{max}\"))\n",
    "      count += 1\n",
    "      \n",
    "      if keyin > 100 or keyin <1 :\n",
    "         print(\"輸人格式錯誤,或數字範圍錯襄誤，請重新輸入\")\n",
    "      elif keyin < target:      \n",
    "            min = keyin+1\n",
    "            print(f\"猜數字範圍{min}~{max}，您已經猜了{count}次\",\"再大一點\")\n",
    "      elif keyin > target :\n",
    "         max = keyin-1\n",
=======
    "   try :\n",
    "      keyin = int(input(f\"猜數字範圍{min}~{max}\"))\n",
    "      count += 1\n",
    "   except :\n",
    "      print(\"輸人格式錯誤,請重新輸入\")\n",
    "   else:\n",
    "      if keyin < target:\n",
    "         min = keyin\n",
    "         print(f\"猜數字範圍{min}~{max}，您已經猜了{count}次\",\"再大一點\")\n",
    "      elif keyin > target :\n",
    "         max = keyin\n",
>>>>>>> e241301c241d63bf835c37d32f45b8d2a894636c
    "         print(f\"猜數字範圍{min}~{max}，您已經猜了{count}次\",\"再小一點\")\n",
    "      else :\n",
    "         print(f\"您猜中了,答案是{keyin},您共猜了{count}次\")\n",
    "         break\n",
<<<<<<< HEAD
    "\n",
    "   answer = pyip.inputYesNo(prompt=\"還要繼續嗎?(y,n)\",yesVal='y',noVal='n')\n",
    "   if not (answer == 'y'):\n",
    "         break\n",
    "print(\"遊戲結束\")      \n",
    "\n",
=======
    "      \n",
    "   \n",
>>>>>>> e241301c241d63bf835c37d32f45b8d2a894636c
    "\n",
    "\n"
   ]
  }
 ],
 "metadata": {
  "kernelspec": {
   "display_name": ".venv",
   "language": "python",
   "name": "python3"
  },
  "language_info": {
   "codemirror_mode": {
    "name": "ipython",
    "version": 3
   },
   "file_extension": ".py",
   "mimetype": "text/x-python",
   "name": "python",
   "nbconvert_exporter": "python",
   "pygments_lexer": "ipython3",
   "version": "3.10.8"
  },
  "orig_nbformat": 4
 },
 "nbformat": 4,
 "nbformat_minor": 2
}
