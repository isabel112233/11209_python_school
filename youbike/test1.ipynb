{
 "cells": [
  {
   "cell_type": "code",
   "execution_count": 8,
   "metadata": {},
   "outputs": [
    {
     "name": "stdout",
     "output_type": "stream",
     "text": [
      "倒數計時:10\n",
      "倒數計時:9\n",
      "倒數計時:8\n",
      "倒數計時:7\n",
      "倒數計時:6\n",
      "倒數計時:5\n",
      "倒數計時:4\n",
      "倒數計時:3\n",
      "倒數計時:2\n",
      "倒數計時:1\n",
      "小猴子執行完畢\n"
     ]
    }
   ],
   "source": [
    "import time\n",
    "import threading \n",
    "\n",
    "def countdown(n:int)->None:\n",
    "    while n>0:\n",
    "        print(f\"倒數計時:{n}\")\n",
    "        n -= 1\n",
    "        time.sleep(5)\n",
    "#countdown(10)\n",
    "t = threading.Thread(target=countdown,args=(10,))  #tuple()如果只有一個值要加逗號 \n",
    "t.start()\n",
    "\n",
    "t.join()\n",
    "print(\"小猴子執行完畢\")"
   ]
  },
  {
   "cell_type": "code",
   "execution_count": 7,
   "metadata": {},
   "outputs": [
    {
     "name": "stdout",
     "output_type": "stream",
     "text": [
      "倒數計時:10小猴子還在做事\n",
      "\n",
      "小猴子還在做事\n",
      "小猴子還在做事\n",
      "小猴子還在做事\n",
      "小猴子還在做事\n",
      "倒數計時:9\n",
      "小猴子還在做事\n",
      "小猴子還在做事\n",
      "小猴子還在做事\n",
      "小猴子還在做事\n",
      "小猴子還在做事\n",
      "倒數計時:8\n",
      "小猴子還在做事\n",
      "小猴子還在做事\n",
      "小猴子還在做事\n",
      "小猴子還在做事\n",
      "小猴子還在做事\n",
      "倒數計時:7\n",
      "小猴子還在做事\n",
      "小猴子還在做事\n",
      "小猴子還在做事\n",
      "小猴子還在做事\n",
      "小猴子還在做事\n",
      "倒數計時:6\n",
      "小猴子還在做事\n",
      "小猴子還在做事\n",
      "小猴子還在做事\n",
      "小猴子還在做事\n",
      "小猴子還在做事\n",
      "倒數計時:5\n",
      "小猴子還在做事\n",
      "小猴子還在做事\n",
      "小猴子還在做事\n",
      "小猴子還在做事\n",
      "小猴子還在做事\n",
      "倒數計時:4\n",
      "小猴子還在做事\n",
      "小猴子還在做事\n",
      "小猴子還在做事\n",
      "小猴子還在做事\n",
      "小猴子還在做事\n",
      "倒數計時:3\n",
      "小猴子還在做事\n",
      "小猴子還在做事\n",
      "小猴子還在做事\n",
      "小猴子還在做事\n",
      "小猴子還在做事\n",
      "倒數計時:2\n",
      "小猴子還在做事\n",
      "小猴子還在做事\n",
      "小猴子還在做事\n",
      "小猴子還在做事\n",
      "小猴子還在做事\n",
      "倒數計時:1\n",
      "小猴子還在做事\n",
      "小猴子還在做事\n",
      "小猴子還在做事\n",
      "小猴子還在做事\n",
      "小猴子還在做事\n",
      "小猴子做完了\n"
     ]
    }
   ],
   "source": [
    "import time\n",
    "import threading    #寫執行序使用\n",
    "\n",
    "def countdown(n:int)->None:\n",
    "    while n>0:\n",
    "        print(f\"倒數計時:{n}\")\n",
    "        n -= 1\n",
    "        time.sleep(5)\n",
    "#countdown(10)\n",
    "t = threading.Thread(target=countdown,args=(10,))  #tuple()如果只有一個值要加逗號 \n",
    "t.start()\n",
    "\n",
    "while t.is_alive():\n",
    "    print('小猴子還在做事')\n",
    "    time.sleep(1)\n",
    "else:\n",
    "    print(\"小猴子已經做完了\")"
   ]
  },
  {
   "cell_type": "code",
   "execution_count": 11,
   "metadata": {},
   "outputs": [
    {
     "name": "stdout",
     "output_type": "stream",
     "text": [
      "倒數計時10\n"
     ]
    },
    {
     "name": "stdout",
     "output_type": "stream",
     "text": [
      "倒數計時9\n",
      "倒數計時8\n",
      "倒數計時7\n",
      "倒數計時6\n",
      "倒數計時5\n",
      "倒數計時4\n",
      "倒數計時3\n",
      "倒數計時2\n",
      "倒數計時1\n"
     ]
    }
   ],
   "source": [
    "from threading import Timer\n",
    "def countdown(n:int)->None:\n",
    "    if n > 0 :\n",
    "        print(f\"倒數計時{n}\")\n",
    "        t = Timer(1,countdown,args=(n-1,))   #1秒之後執行,timer為設定每隔多久時間執行一件事\n",
    "        t.start()\n",
    "\n",
    "countdown(n=10)"
   ]
  },
  {
   "cell_type": "code",
   "execution_count": 1,
   "metadata": {},
   "outputs": [],
   "source": [
    "#!/usr/bin/env python3\n",
    "# -*- coding: utf-8 -*-\n",
    "import tkinter as tk\n",
    "\n",
    "root = tk.Tk()\n",
    "root.title('my window')\n",
    "\n",
    "#mylabel = tk.Label(root, text='Name:')\n",
    "#mylabel.grid(row=0, column=0)\n",
    "myentry = tk.Entry(root)\n",
    "myentry.grid(row=0, column=1)\n",
    "\n",
    "root.mainloop()"
   ]
  }
 ],
 "metadata": {
  "kernelspec": {
   "display_name": ".venv",
   "language": "python",
   "name": "python3"
  },
  "language_info": {
   "codemirror_mode": {
    "name": "ipython",
    "version": 3
   },
   "file_extension": ".py",
   "mimetype": "text/x-python",
   "name": "python",
   "nbconvert_exporter": "python",
   "pygments_lexer": "ipython3",
   "version": "3.10.8"
  }
 },
 "nbformat": 4,
 "nbformat_minor": 2
}
