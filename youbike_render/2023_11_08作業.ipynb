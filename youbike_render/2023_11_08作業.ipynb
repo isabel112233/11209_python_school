{
 "cells": [
  {
   "cell_type": "code",
   "execution_count": 7,
   "metadata": {},
   "outputs": [
    {
     "name": "stdout",
     "output_type": "stream",
     "text": [
      "連線成功\n",
      "<connection object at 0x0000023EBDF8FEF0; dsn: 'user=mercury password=xxx dbname=maindb_5qg1 host=dpg-cl5g6is72pts73elln20-a.singapore-postgres.render.com port=5432', closed: 0>\n"
     ]
    },
    {
     "ename": "TypeError",
     "evalue": "'str' object is not callable",
     "output_type": "error",
     "traceback": [
      "\u001b[1;31m---------------------------------------------------------------------------\u001b[0m",
      "\u001b[1;31mTypeError\u001b[0m                                 Traceback (most recent call last)",
      "\u001b[1;32mc:\\GitHub\\11209_python_school\\youbike_render\\2023_11_08作業.ipynb 儲存格 1\u001b[0m line \u001b[0;36m2\n\u001b[0;32m     <a href='vscode-notebook-cell:/c%3A/GitHub/11209_python_school/youbike_render/2023_11_08%E4%BD%9C%E6%A5%AD.ipynb#W0sZmlsZQ%3D%3D?line=20'>21</a>\u001b[0m cur \u001b[39m=\u001b[39m conn\u001b[39m.\u001b[39mcursor() \n\u001b[0;32m     <a href='vscode-notebook-cell:/c%3A/GitHub/11209_python_school/youbike_render/2023_11_08%E4%BD%9C%E6%A5%AD.ipynb#W0sZmlsZQ%3D%3D?line=22'>23</a>\u001b[0m file \u001b[39m=\u001b[39m \u001b[39m\"\u001b[39m\u001b[39m./台北市youbike.csv\u001b[39m\u001b[39m\"\u001b[39m\n\u001b[1;32m---> <a href='vscode-notebook-cell:/c%3A/GitHub/11209_python_school/youbike_render/2023_11_08%E4%BD%9C%E6%A5%AD.ipynb#W0sZmlsZQ%3D%3D?line=23'>24</a>\u001b[0m \u001b[39mfor\u001b[39;00m index,row \u001b[39min\u001b[39;00m file():\n\u001b[0;32m     <a href='vscode-notebook-cell:/c%3A/GitHub/11209_python_school/youbike_render/2023_11_08%E4%BD%9C%E6%A5%AD.ipynb#W0sZmlsZQ%3D%3D?line=24'>25</a>\u001b[0m     cur\u001b[39m.\u001b[39mexecute(sql)\n\u001b[0;32m     <a href='vscode-notebook-cell:/c%3A/GitHub/11209_python_school/youbike_render/2023_11_08%E4%BD%9C%E6%A5%AD.ipynb#W0sZmlsZQ%3D%3D?line=25'>26</a>\u001b[0m conn\u001b[39m.\u001b[39mcommit()\n",
      "\u001b[1;31mTypeError\u001b[0m: 'str' object is not callable"
     ]
    }
   ],
   "source": [
    "import password as pw\n",
    "import psycopg2\n",
    "import pandas as pd\n",
    "\n",
    "try:\n",
    "    conn = psycopg2.connect(database=pw.DATABASE, \n",
    "                            user=pw.USER, \n",
    "                            password=pw.PASSWORD, host=pw.HOST,\n",
    "                            port=\"5432\")\n",
    "except psycopg2.Error as e:\n",
    "    print('error')\n",
    "    print(e)\n",
    "else:\n",
    "    print('連線成功')\n",
    "    print(conn)\n",
    "    \n",
    "sql = '''\n",
    "INSERT INTO 台北市youbike(站點名稱,行政區,更新時間,地址,總車輛數,可借,可還)\n",
    "VALUES(%s,%s,%s,%s,%s,%s,%s),row(站點名稱,行政區,更新時間,地址,總車輛數,可借,可還))\n",
    "'''\n",
    "cur = conn.cursor() \n",
    "    \n",
    "file = \"./台北市youbike.csv\"\n",
    "for index,row in file():\n",
    "    cur.execute(sql)\n",
    "conn.commit()\n",
    "cur.close()\n",
    "conn.close()\n",
    "\n"
   ]
  }
 ],
 "metadata": {
  "kernelspec": {
   "display_name": ".venv",
   "language": "python",
   "name": "python3"
  },
  "language_info": {
   "codemirror_mode": {
    "name": "ipython",
    "version": 3
   },
   "file_extension": ".py",
   "mimetype": "text/x-python",
   "name": "python",
   "nbconvert_exporter": "python",
   "pygments_lexer": "ipython3",
   "version": "3.10.8"
  }
 },
 "nbformat": 4,
 "nbformat_minor": 2
}
