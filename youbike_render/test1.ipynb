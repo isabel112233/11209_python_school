{
 "cells": [
  {
   "cell_type": "code",
   "execution_count": 5,
   "metadata": {},
   "outputs": [
    {
     "name": "stdout",
     "output_type": "stream",
     "text": [
      "連線成功\n",
      "<connection object at 0x0000029543B60D00; dsn: 'user=mercury password=xxx dbname=maindb_5qg1 host=dpg-cl5g6is72pts73elln20-a.singapore-postgres.render.com port=5432', closed: 0>\n"
     ]
    }
   ],
   "source": [
    "import psycopg2\n",
    "\n",
    "try:\n",
    "    conn = psycopg2.connect(database=\"maindb_5qg1\", user=\"mercury\", \n",
    "                            password=\"iRfEnF2pqMu5yAs8GN0TUl0vrAv3CFHq\", host=\"dpg-cl5g6is72pts73elln20-a.singapore-postgres.render.com\", \n",
    "                            port=\"5432\")\n",
    "except psycopg2.Error as e:\n",
    "    print('error')\n",
    "    print(e)\n",
    "else:\n",
    "    print('連線成功')\n",
    "    print(conn)\n",
    "    "
   ]
  },
  {
   "cell_type": "code",
   "execution_count": 6,
   "metadata": {},
   "outputs": [
    {
     "name": "stdout",
     "output_type": "stream",
     "text": [
      "[(1, 'YouBike2.0_一壽橋', '2023-11-08 10:08:17', '文山區', '樟新街64號前方', 16, 0, 14)]\n"
     ]
    }
   ],
   "source": [
    "with conn.cursor() as cursor:\n",
    "    cursor.execute('select*from 台北市youbike')\n",
    "    records = cursor.fetchall()\n",
    "print (records)"
   ]
  }
 ],
 "metadata": {
  "kernelspec": {
   "display_name": "vene_py38",
   "language": "python",
   "name": "python3"
  },
  "language_info": {
   "codemirror_mode": {
    "name": "ipython",
    "version": 3
   },
   "file_extension": ".py",
   "mimetype": "text/x-python",
   "name": "python",
   "nbconvert_exporter": "python",
   "pygments_lexer": "ipython3",
   "version": "3.10.8"
  }
 },
 "nbformat": 4,
 "nbformat_minor": 2
}
