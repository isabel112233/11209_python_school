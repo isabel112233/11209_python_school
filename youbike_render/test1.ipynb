{
 "cells": [
  {
   "cell_type": "code",
   "execution_count": 5,
   "metadata": {},
   "outputs": [
    {
     "name": "stdout",
     "output_type": "stream",
     "text": [
      "連線成功\n",
      "<connection object at 0x0000029543B60D00; dsn: 'user=mercury password=xxx dbname=maindb_5qg1 host=dpg-cl5g6is72pts73elln20-a.singapore-postgres.render.com port=5432', closed: 0>\n"
     ]
    }
   ],
   "source": [
    "\n",
    "#密碼不能上傳GITHUT 故另外匯入\n",
    "\n",
    "import password as pw\n",
    "import psycopg2\n",
    "\n",
    "try:\n",
    "    conn = psycopg2.connect(database=\"\", user=\"\", \n",
    "                            password=\"\", host=\"\", \n",
    "                            port=\"5432\")\n",
    "except psycopg2.Error as e:\n",
    "    print('error')\n",
    "    print(e)\n",
    "else:\n",
    "    print('連線成功')\n",
    "    print(conn)\n",
    "    "
   ]
  },
  {
   "cell_type": "code",
   "execution_count": 17,
   "metadata": {},
   "outputs": [
    {
     "name": "stdout",
     "output_type": "stream",
     "text": [
      "連線成功\n",
      "<connection object at 0x0000029543B62790; dsn: 'user=mercury password=xxx dbname=maindb_5qg1 host=dpg-cl5g6is72pts73elln20-a.singapore-postgres.render.com port=5432', closed: 0>\n"
     ]
    }
   ],
   "source": [
    "import password as pw\n",
    "import psycopg2\n",
    "\n",
    "try:\n",
    "    conn = psycopg2.connect(database=pw.DATABASE, \n",
    "                            user=pw.USER, \n",
    "                            password=pw.PASSWORD, host=pw.HOST,\n",
    "                            port=\"5432\")\n",
    "except psycopg2.Error as e:\n",
    "    print('error')\n",
    "    print(e)\n",
    "else:\n",
    "    print('連線成功')\n",
    "    print(conn)\n",
    "    "
   ]
  },
  {
   "cell_type": "code",
   "execution_count": 18,
   "metadata": {},
   "outputs": [
    {
     "name": "stdout",
     "output_type": "stream",
     "text": [
      "[(1, 'YouBike2.0_一壽橋', '2023-11-08 10:08:17', '文山區', '樟新街64號前方', 16, 0, 14)]\n"
     ]
    }
   ],
   "source": [
    "sql = \"select * from 台北市youbike\"\n",
    "with conn.cursor() as cursor:\n",
    "    cursor.execute(sql)\n",
    "    records = cursor.fetchall()      #使用with資料執行完cursor.fetchall()即關閉\n",
    "print (records)"
   ]
  },
  {
   "cell_type": "code",
   "execution_count": 19,
   "metadata": {},
   "outputs": [
    {
     "name": "stdout",
     "output_type": "stream",
     "text": [
      "[(1, 'YouBike2.0_一壽橋', '2023-11-08 10:08:17', '文山區', '樟新街64號前方', 16, 0, 14), (3, 'YouBike2.0_一壽橋', '文山區', '2023-11-08 10:43:18', '樟新街64號前方', 100, 100, 15)]\n"
     ]
    }
   ],
   "source": [
    "sql = '''\n",
    "INSERT INTO 台北市youbike(站點名稱,行政區,更新時間,地址,總車輛數,可借,可還)\n",
    "VALUES('YouBike2.0_一壽橋','文山區','2023-11-08 10:43:18','樟新街64號前方',100,100,15)\n",
    "'''\n",
    "with conn.cursor() as cursor:\n",
    "    cursor.execute(sql)\n",
    "    conn.commit()\n",
    "\n",
    "sql1 = '''\n",
    "select * \n",
    "from 台北市youbike\n",
    "where 站點名稱 = 'YouBike2.0_一壽橋'\n",
    "'''\n",
    "\n",
    "with conn.cursor() as cursor:\n",
    "    cursor.execute(sql1)\n",
    "    records = cursor.fetchall()\n",
    "\n",
    "print(records)"
   ]
  }
 ],
 "metadata": {
  "kernelspec": {
   "display_name": "vene_py38",
   "language": "python",
   "name": "python3"
  },
  "language_info": {
   "codemirror_mode": {
    "name": "ipython",
    "version": 3
   },
   "file_extension": ".py",
   "mimetype": "text/x-python",
   "name": "python",
   "nbconvert_exporter": "python",
   "pygments_lexer": "ipython3",
   "version": "3.10.8"
  }
 },
 "nbformat": 4,
 "nbformat_minor": 2
}
