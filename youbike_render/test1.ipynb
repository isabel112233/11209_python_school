{
 "cells": [
  {
   "cell_type": "code",
   "execution_count": null,
   "metadata": {},
   "outputs": [],
   "source": [
    "import psycopg2\n",
    "import password as pw\n",
    "try:\n",
    "    conn = psycopg2.connect(database=pw.DATABASE,\n",
    "                        user=pw.USER, \n",
    "                        password=pw.PASSWORD,\n",
    "                        host=pw.HOST, \n",
    "                        port=\"5432\")\n",
    "except psycopg2.Error as e:\n",
    "    print(\"error\")\n",
    "    print(e)\n",
    "else:\n",
    "    print(\"連線成功\")\n",
    "    print(conn)"
   ]
  },
  {
   "cell_type": "code",
   "execution_count": null,
   "metadata": {},
   "outputs": [],
   "source": [
    "sql = \"select * from 台北市youbike\"\n",
    "with conn.cursor() as cursor:\n",
    "    cursor.execute(sql)\n",
    "    records = cursor.fetchall()\n",
    "\n",
    "print(records)"
   ]
  },
  {
   "cell_type": "code",
   "execution_count": null,
   "metadata": {},
   "outputs": [],
   "source": [
    "sql = '''\n",
    "INSERT INTO 台北市youbike(站點名稱,行政區,更新時間,地址,總車輛數,可借,可還)\n",
    "VALUES('YouBike2.0_一壽橋','文山區','2023-11-08 10:43:18','樟新街64號前方',100,100,15)\n",
    "'''\n",
    "with conn.cursor() as cursor:\n",
    "    cursor.execute(sql)\n",
    "    conn.commit()\n",
    "\n",
    "sql1 = '''\n",
    "select * \n",
    "from 台北市youbike\n",
    "where 站點名稱 = 'YouBike2.0_一壽橋'\n",
    "'''\n",
    "\n",
    "with conn.cursor() as cursor:\n",
    "    cursor.execute(sql1)\n",
    "    records = cursor.fetchall()\n",
    "\n",
    "print(records)"
   ]
  },
  {
   "cell_type": "code",
   "execution_count": null,
   "metadata": {},
   "outputs": [],
   "source": [
    "import password as pw\n",
    "import pandas as pd\n",
    "import psycopg2\n",
    "import csv\n",
    "try:\n",
    "    conn = psycopg2.connect(database=pw.DATABASE,\n",
    "                            user=pw.USER,\n",
    "                            password=pw.PASSWORD, host=pw.HOST,\n",
    "                            port=\"5432\")\n",
    "except psycopg2.Error as e:\n",
    "    print('error')\n",
    "    print(e)\n",
    "else:\n",
    "    print('連線成功')\n",
    "    print(conn)\n",
    "\n",
    "file = pd.read_csv('台北市youbike.csv')\n",
    "cur = conn.cursor()\n",
    "\n",
    "sql = '''\n",
    "INSERT INTO 台北市youbike(站點名稱,更新時間,行政區,地址,總車輛數,可借,可還)\n",
    "VALUES(%s,%s,%s,%s,%s,%s,%s)\n",
    "'''\n",
    "\n",
    "for i, row in file.iterrows():\n",
    "    cur.execute(sql, row)\n",
    "conn.commit()\n",
    "cur.close()\n",
    "conn.close()"
   ]
  }
 ],
 "metadata": {
  "language_info": {
   "name": "python"
  }
 },
 "nbformat": 4,
 "nbformat_minor": 2
}
